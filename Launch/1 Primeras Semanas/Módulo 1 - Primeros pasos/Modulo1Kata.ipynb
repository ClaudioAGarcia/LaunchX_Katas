{
 "cells": [
  {
   "cell_type": "markdown",
   "metadata": {},
   "source": [
    "Claudio Antonio Garibay Garcia"
   ]
  },
  {
   "cell_type": "markdown",
   "metadata": {},
   "source": [
    "# Tu Primer Programa\n",
    "\n",
    "Programa para mostrar fecha de la gran nave espacial "
   ]
  },
  {
   "cell_type": "code",
   "execution_count": 1,
   "metadata": {},
   "outputs": [
    {
     "name": "stdout",
     "output_type": "stream",
     "text": [
      "Today's date is: 2022-02-07\n"
     ]
    }
   ],
   "source": [
    "\n",
    "from datetime import date\n",
    "\n",
    "\n",
    "print(\"Today's date is:\", date.today())"
   ]
  },
  {
   "cell_type": "markdown",
   "metadata": {},
   "source": [
    "# Convertidor de Unidades\n",
    "\n",
    "Convertidor de unidades para la gran nave espacial"
   ]
  },
  {
   "cell_type": "code",
   "execution_count": 10,
   "metadata": {},
   "outputs": [
    {
     "name": "stdout",
     "output_type": "stream",
     "text": [
      "10.4 parsec, is 33.920224 lightyears \n"
     ]
    }
   ],
   "source": [
    "parsec_1 = 3.26156              #value one parsec\n",
    "\n",
    "parsecs = 11                    #parsec's to travel\n",
    "\n",
    "conversor = parsec_1 * parsecs  #lightyears\n",
    "\n",
    "\n",
    "print(str(parsecs)+ \" parsec, is \" + str(conversor)+ \" lightyears \")\n"
   ]
  }
 ],
 "metadata": {
  "interpreter": {
   "hash": "85e7473f35fd2f1e4fb6d6073068045ad26f3fcdce39000475962fd84a63683c"
  },
  "kernelspec": {
   "display_name": "Python 3.10.2 64-bit",
   "language": "python",
   "name": "python3"
  },
  "language_info": {
   "codemirror_mode": {
    "name": "ipython",
    "version": 3
   },
   "file_extension": ".py",
   "mimetype": "text/x-python",
   "name": "python",
   "nbconvert_exporter": "python",
   "pygments_lexer": "ipython3",
   "version": "3.10.2"
  },
  "orig_nbformat": 4
 },
 "nbformat": 4,
 "nbformat_minor": 2
}
