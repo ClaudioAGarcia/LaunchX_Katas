{
 "cells": [
  {
   "cell_type": "markdown",
   "metadata": {},
   "source": [
    "Claudio Antonio Garibay Garcia"
   ]
  },
  {
   "cell_type": "code",
   "execution_count": 2,
   "metadata": {},
   "outputs": [
    {
     "name": "stdout",
     "output_type": "stream",
     "text": [
      "55\n"
     ]
    }
   ],
   "source": [
    "#Tip Practica Numero 1\n",
    "\n",
    "a = 97\n",
    "b = 55\n",
    "#expresion booleana  (True, Flase)\n",
    "if a < b:\n",
    "    #instruccion a ejecutar\n",
    "    print(b)\n",
    "\n",
    "#Sentencia if siempre tiene este formato\n",
    "#if expresion_prueba:\n",
    "    # intrucción(es) a ejecutar"
   ]
  },
  {
   "cell_type": "code",
   "execution_count": 4,
   "metadata": {},
   "outputs": [
    {
     "name": "stdout",
     "output_type": "stream",
     "text": [
      "98\n"
     ]
    }
   ],
   "source": [
    "a = 98  \n",
    "b = 28\n",
    "if a >= b:\n",
    "    print(a)"
   ]
  },
  {
   "cell_type": "code",
   "execution_count": 5,
   "metadata": {},
   "outputs": [
    {
     "name": "stdout",
     "output_type": "stream",
     "text": [
      "44\n"
     ]
    }
   ],
   "source": [
    "a = 44\n",
    "b = 44\n",
    "if a <= 0:\n",
    "    print(a)\n",
    "print(b)"
   ]
  },
  {
   "cell_type": "code",
   "execution_count": 7,
   "metadata": {},
   "outputs": [
    {
     "name": "stdout",
     "output_type": "stream",
     "text": [
      "28\n"
     ]
    }
   ],
   "source": [
    "#if else\n",
    "a = 8  \n",
    "b = 28\n",
    "if a >= b:\n",
    "    print(a)\n",
    "else:\n",
    "    print(b)\n",
    "\n",
    "#if else formato\n",
    "# if expresion_prueba:\n",
    "    # instrucción(es) a ejecutar\n",
    "# else:\n",
    "    # instrucción(es) a ejecutar"
   ]
  },
  {
   "cell_type": "code",
   "execution_count": 11,
   "metadata": {},
   "outputs": [
    {
     "name": "stdout",
     "output_type": "stream",
     "text": [
      "a es mayor\n"
     ]
    }
   ],
   "source": [
    "#if elif\n",
    "a = 28\n",
    "b = 27\n",
    "if a > b:\n",
    "    print('a es mayor')\n",
    "elif a == b:\n",
    "    print(\"a es igual que b\")\n",
    "\n",
    "# if elif formato\n",
    "#if expresion_prueba:\n",
    "    # instrucción(es) a ejecutar\n",
    "#elif expresion_prueba:\n",
    "    # instrucción(es) a ejecutar\n"
   ]
  },
  {
   "cell_type": "code",
   "execution_count": 14,
   "metadata": {},
   "outputs": [
    {
     "name": "stdout",
     "output_type": "stream",
     "text": [
      "es igual a b\n"
     ]
    }
   ],
   "source": [
    "#fi elif else\n",
    "a = 27\n",
    "b = 27\n",
    "if a > b:\n",
    "    print('a es mayor que b')\n",
    "elif a < b:\n",
    "    print(\"a es menor que b\")\n",
    "else:\n",
    "    print('es igual a b')\n",
    "\n",
    "#if , elif, else expresion\n",
    "#if expresion_prueba:\n",
    "    # instrucción(es) a ejecutar\n",
    "#elif expresion_prueba:\n",
    "    # instrucción(es) a ejecutar\n",
    "#elif expresion_prueba:\n",
    "    # instrucción(es) a ejecutar\n",
    "#else:\n",
    "    # instrucción(es) a ejecutar"
   ]
  },
  {
   "cell_type": "code",
   "execution_count": 2,
   "metadata": {},
   "outputs": [
    {
     "name": "stdout",
     "output_type": "stream",
     "text": [
      "a es menor que b\n"
     ]
    }
   ],
   "source": [
    "#if else elif anidados\n",
    "a = 16\n",
    "b = 25\n",
    "c = 27\n",
    "\n",
    "if a > b: #si a > b pasa a la siguente linea\n",
    "    if b > c: # si a es > b comprueba si b > c si es asi imprime resultado\n",
    "        print('a es mayor que b y que c')\n",
    "    else:# si a es > b pero menor que c imprime resultado\n",
    "        print('a es mayor que b y menor que c')\n",
    "elif a == b: #si no es ninguna de las anteriores compruba si es igual\n",
    "    print('a es igual a b')\n",
    "else: # si no es ninguno de los anteriores imprime el ultimo resiltado\n",
    "    print('a es menor que b')\n",
    "\n",
    "#if else elfi expresion \n",
    "# if expresion_prueba:\n",
    "    # instrucción(es) a ejecutar\n",
    "    ##if expresion_prueba:\n",
    "        # instrucción(es) a ejecutar\n",
    "    ##else: \n",
    "        # instrucción(es) a ejecutar\n",
    "#elif expresion_prueba:\n",
    "    # instrucción(es) a ejecutar\n",
    "    #if expresion_prueba:\n",
    "        # instrucción(es) a ejecutar\n",
    "    #else: \n",
    "        # instrucción(es) a ejecutar\n",
    "#else:\n",
    "    # instrucción(es) a ejecutar##"
   ]
  },
  {
   "cell_type": "code",
   "execution_count": 8,
   "metadata": {},
   "outputs": [
    {
     "name": "stdout",
     "output_type": "stream",
     "text": [
      "68\n"
     ]
    }
   ],
   "source": [
    "#Operador Or\n",
    "\n",
    "#or (o)\n",
    "\n",
    "a = 34\n",
    "b = 34\n",
    "if a == 34 or b == 34: # Se imprime por que una de las 2 expresiones en verdadera\n",
    "    print(a + b)"
   ]
  },
  {
   "cell_type": "code",
   "execution_count": 15,
   "metadata": {},
   "outputs": [],
   "source": [
    "#Operador and\n",
    "\n",
    "# and (y)\n",
    "\n",
    "a = 34\n",
    "b = 32\n",
    "if a == 34 and b == 34:   #NO SE IMPRIME POR QUE NO LAS 2 EXPRESIONES NO SON VERDADERAS\n",
    "    print(a + b)"
   ]
  },
  {
   "cell_type": "code",
   "execution_count": null,
   "metadata": {},
   "outputs": [],
   "source": [
    "# TABLA DE VERDAD AND\n",
    "subexpresión1\tOperador\tsubexpresión2\tResultado\n",
    "True\t          and\t        True\t      True\n",
    "True\t          and\t        False\t      False\n",
    "False\t          and\t        True\t      False\n",
    "False\t          and\t        False\t      False"
   ]
  },
  {
   "cell_type": "code",
   "execution_count": null,
   "metadata": {},
   "outputs": [],
   "source": [
    "ubexpresión1\tOperador\tsubexpresión2\tResultado\n",
    "True\t           or\t        True\t       True\n",
    "True\t           or\t        False\t       True\n",
    "False\t           or\t        True\t       True\n",
    "False\t           or\t        False\t       False"
   ]
  }
 ],
 "metadata": {
  "interpreter": {
   "hash": "85e7473f35fd2f1e4fb6d6073068045ad26f3fcdce39000475962fd84a63683c"
  },
  "kernelspec": {
   "display_name": "Python 3.10.2 64-bit",
   "language": "python",
   "name": "python3"
  },
  "language_info": {
   "codemirror_mode": {
    "name": "ipython",
    "version": 3
   },
   "file_extension": ".py",
   "mimetype": "text/x-python",
   "name": "python",
   "nbconvert_exporter": "python",
   "pygments_lexer": "ipython3",
   "version": "3.10.2"
  },
  "orig_nbformat": 4
 },
 "nbformat": 4,
 "nbformat_minor": 2
}
