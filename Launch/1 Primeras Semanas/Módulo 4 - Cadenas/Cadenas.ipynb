{
 "cells": [
  {
   "cell_type": "markdown",
   "metadata": {},
   "source": [
    "# Cadenas\n"
   ]
  },
  {
   "cell_type": "code",
   "execution_count": 10,
   "metadata": {},
   "outputs": [
    {
     "data": {
      "text/plain": [
       "'The moon has no atmosphere'"
      ]
     },
     "execution_count": 10,
     "metadata": {},
     "output_type": "execute_result"
    }
   ],
   "source": [
    "\n",
    "fact = \"The moon has no atmosphere\"\n",
    "\n",
    "fact + \"no sound\"\n",
    "\n",
    "fact"
   ]
  },
  {
   "cell_type": "code",
   "execution_count": 11,
   "metadata": {},
   "outputs": [
    {
     "data": {
      "text/plain": [
       "'The moon has no atmosphere no sound'"
      ]
     },
     "execution_count": 11,
     "metadata": {},
     "output_type": "execute_result"
    }
   ],
   "source": [
    "two_fact = fact + \" no sound\"\n",
    "\n",
    "two_fact"
   ]
  },
  {
   "cell_type": "markdown",
   "metadata": {},
   "source": [
    "# Uso de comillas\n"
   ]
  },
  {
   "cell_type": "code",
   "execution_count": 14,
   "metadata": {},
   "outputs": [
    {
     "name": "stdout",
     "output_type": "stream",
     "text": [
      "alguna vez claudio dijo'hola mundo'\n",
      " \n",
      "'Hola como estan' dijo \"caludio\" \n"
     ]
    }
   ],
   "source": [
    "# al tener un texto en el cual se site se recomienda utilizar comillas dobles\n",
    "# y comillas simples adentro de la cadena\n",
    "\n",
    "hola_m = \"alguna vez claudio dijo'hola mundo'\"\n",
    "\n",
    "#si se llegaran a utilzar los 2 tipos de comillas se pueden utilizar comillas triples\n",
    "\n",
    "comillas_3 = \"\"\" \\n'Hola como estan' dijo \"caludio\" \"\"\"\n",
    "\n",
    "print(hola_m)\n",
    "\n",
    "print(comillas_3)"
   ]
  },
  {
   "cell_type": "markdown",
   "metadata": {},
   "source": [
    "# Textos en Multilinea\n"
   ]
  },
  {
   "cell_type": "code",
   "execution_count": 21,
   "metadata": {},
   "outputs": [
    {
     "name": "stdout",
     "output_type": "stream",
     "text": [
      "cristhoper- hola claudio\n",
      "claudio- hola como estas\n",
      "\n",
      "hola1\n",
      "hola2\n",
      "hola3\n"
     ]
    }
   ],
   "source": [
    "#para hacer un texto multi liena se utiliza \\n o comillas triples (\"\"\")\n",
    "\n",
    "txt_multi = \"cristhoper- hola claudio\\nclaudio- hola como estas\"\n",
    "\n",
    "print(txt_multi)\n",
    "\n",
    "#comilla triples ayudan a hacer txt en varias lineas\n",
    "txt_multi2 =\"\"\"\\nhola1\n",
    "hola2\n",
    "hola3\"\"\"\n",
    "print(txt_multi2)\n",
    "\n",
    "#al tratar de hacerlo con comillas simples o dobles no se pueden hacer de varias \n",
    "# lineas\n",
    "txt_multi3 = \"\n",
    "hola como estas\""
   ]
  },
  {
   "cell_type": "markdown",
   "metadata": {},
   "source": [
    "# Metodos en String\n"
   ]
  },
  {
   "cell_type": "markdown",
   "metadata": {},
   "source": [
    ".title()"
   ]
  },
  {
   "cell_type": "code",
   "execution_count": 30,
   "metadata": {},
   "outputs": [
    {
     "name": "stdout",
     "output_type": "stream",
     "text": [
      "Claudio garcia\n"
     ]
    }
   ],
   "source": [
    "#para poder aplicar metodos de string son los siguientes\n",
    "#.title() hace que el texto se modifique haciendo que todas las inicales\n",
    "#del texto empieze con mayuscula\n",
    "\n",
    "'titulo de mi pagina web'.title()\n",
    "\n",
    "#.title() tambien se pueden utilizar en variables\n",
    "\n",
    "nombre = 'claudio'\n",
    "\n",
    "nombre.title()\n",
    "\n",
    "apellido = 'garcia'\n",
    "\n",
    "print(nombre,apellido)"
   ]
  },
  {
   "cell_type": "markdown",
   "metadata": {},
   "source": [
    ".split()"
   ]
  },
  {
   "cell_type": "code",
   "execution_count": 45,
   "metadata": {},
   "outputs": [
    {
     "data": {
      "text/plain": [
       "['Daylight:', '260', 'F', '...', 'Nighttime:', '-280', 'F']"
      ]
     },
     "execution_count": 45,
     "metadata": {},
     "output_type": "execute_result"
    }
   ],
   "source": [
    "#la funcion .split() sirve pra dividir cada palabra en diferentes cadenas str\n",
    "#y las pone en una lista\n",
    "\n",
    "temperatures = '''Daylight: 260 F\n",
    "... Nighttime: -280 F'''\n",
    "temperatures .split()"
   ]
  },
  {
   "cell_type": "code",
   "execution_count": 46,
   "metadata": {},
   "outputs": [
    {
     "data": {
      "text/plain": [
       "['dia: 260 F', '... noche: -280 F']"
      ]
     },
     "execution_count": 46,
     "metadata": {},
     "output_type": "execute_result"
    }
   ],
   "source": [
    "#cuando .split('\\n') se le agrega '\\n' dividira en str por cada linea\n",
    "temperatura = '''dia: 260 F\n",
    "... noche: -280 F'''\n",
    "temperatura.split('\\n')"
   ]
  },
  {
   "cell_type": "markdown",
   "metadata": {},
   "source": [
    "Buscar en una cadena"
   ]
  },
  {
   "cell_type": "code",
   "execution_count": 47,
   "metadata": {},
   "outputs": [
    {
     "data": {
      "text/plain": [
       "False"
      ]
     },
     "execution_count": 47,
     "metadata": {},
     "output_type": "execute_result"
    }
   ],
   "source": [
    "#se pueden buscar palabras dandote un valor booleano con 'in' \n",
    "#la palabra a buscar tiene que estar escrita identica que en el texto\n",
    "\n",
    "'osiris' in 'hace tiempo que no veo a claudio'"
   ]
  },
  {
   "cell_type": "code",
   "execution_count": 49,
   "metadata": {},
   "outputs": [
    {
     "data": {
      "text/plain": [
       "True"
      ]
     },
     "execution_count": 49,
     "metadata": {},
     "output_type": "execute_result"
    }
   ],
   "source": [
    "'Osiris' in 'hace tiempo que no veo a Osiris'"
   ]
  },
  {
   "cell_type": "markdown",
   "metadata": {},
   "source": [
    "Encontrar posicion de una palabra en un str con funcion"
   ]
  },
  {
   "cell_type": "code",
   "execution_count": 52,
   "metadata": {},
   "outputs": [
    {
     "data": {
      "text/plain": [
       "-1"
      ]
     },
     "execution_count": 52,
     "metadata": {},
     "output_type": "execute_result"
    }
   ],
   "source": [
    "#.find('palabra a buscar') sirve para encontrar la palabra rapido\n",
    "#si sale -1 significa que no existe la palabra en el texto\n",
    "\n",
    "txt_1 ='hace tiempo que no veo a claudio'\n",
    "txt_1.find('osiris')"
   ]
  },
  {
   "cell_type": "code",
   "execution_count": 53,
   "metadata": {},
   "outputs": [
    {
     "data": {
      "text/plain": [
       "25"
      ]
     },
     "execution_count": 53,
     "metadata": {},
     "output_type": "execute_result"
    }
   ],
   "source": [
    "#al encontrar una palabra nos dara la posicion en caracteres\n",
    "txt_1 ='hace tiempo que no veo a claudio'\n",
    "txt_1.find('claudio')"
   ]
  },
  {
   "cell_type": "markdown",
   "metadata": {},
   "source": [
    "funcion .count()"
   ]
  },
  {
   "cell_type": "code",
   "execution_count": 2,
   "metadata": {},
   "outputs": [
    {
     "data": {
      "text/plain": [
       "1"
      ]
     },
     "execution_count": 2,
     "metadata": {},
     "output_type": "execute_result"
    }
   ],
   "source": [
    "# la funcion count nos ayudara a poder contar el numero de veces que se repite\n",
    "#una palabra o letra en un txt\n",
    "# si no se encuntra mostrara 0\n",
    "\n",
    "txt_3 = \"hola claudio como estas\"\n",
    "txt_3.count('claudio')"
   ]
  },
  {
   "cell_type": "markdown",
   "metadata": {},
   "source": [
    "funcion .lower() y .upper()"
   ]
  },
  {
   "cell_type": "code",
   "execution_count": 5,
   "metadata": {},
   "outputs": [
    {
     "data": {
      "text/plain": [
       "'HOLA MUNDO'"
      ]
     },
     "execution_count": 5,
     "metadata": {},
     "output_type": "execute_result"
    }
   ],
   "source": [
    "#funcion .lower() hace qque el txt se repredente en minusculas\n",
    "#funcion .upper() hace que el txt se repredente en mayusculas \n",
    "\n",
    "txt_4 = \"holA mundo\"\n",
    "txt_4.lower()\n",
    "\n",
    "txt_4.upper()\n"
   ]
  },
  {
   "cell_type": "markdown",
   "metadata": {},
   "source": [
    "Comprobar Contenido\n"
   ]
  },
  {
   "cell_type": "markdown",
   "metadata": {},
   "source": [
    ".split()"
   ]
  },
  {
   "cell_type": "code",
   "execution_count": 13,
   "metadata": {},
   "outputs": [
    {
     "data": {
      "text/plain": [
       "['Mi', 'nombre', 'es', ':', 'Osiris:hola']"
      ]
     },
     "execution_count": 13,
     "metadata": {},
     "output_type": "execute_result"
    }
   ],
   "source": [
    "#.split('marcar donde quieres partir') partira la cadena desde el caracter que le espesifiques\n",
    "# si no se espesifica () un elemento para partir se separara por espacios\n",
    "# [-1] devolvera el ultimo objeto de una lista\n",
    "txt_0 = \"Mi nombre es : Claudio\"\n",
    "\n",
    "partido = txt_0.split(':')\n",
    "\n",
    "partido\n",
    "\n",
    "ejem = \"Mi nombre es : Osiris:hola\"\n",
    "\n",
    "split_1 = ejem.split()\n",
    "\n",
    "split_1\n"
   ]
  },
  {
   "cell_type": "markdown",
   "metadata": {},
   "source": [
    ".isnumeric() | .isdecimal()"
   ]
  },
  {
   "cell_type": "code",
   "execution_count": 14,
   "metadata": {},
   "outputs": [
    {
     "name": "stdout",
     "output_type": "stream",
     "text": [
      "30\n"
     ]
    }
   ],
   "source": [
    "# isnumeric() ayuda a encontar un supuesto valor numero en la cadena\n",
    "# isdecimal() ayuda a encontar un supuesto valor decimal en la cadena\n",
    "presentacion = 'mi nombre es tony tengo 30 años'\n",
    "\n",
    "# for es un bucle que lee los elementos en una lista\n",
    "\n",
    "# se pide que se cree una variable \"numero\" donde se guaradara la lista de creada\n",
    "# por el metodo split, despues de separar las palabras se le ordena una condicional\n",
    "# si existe un elemento numerico en la lista de \"numero\" imprimir \"numero\"\n",
    "for numero in presentacion.split():\n",
    "    if numero.isnumeric():\n",
    "        print(numero)\n"
   ]
  },
  {
   "cell_type": "markdown",
   "metadata": {},
   "source": [
    "## Tranformacion de TXT"
   ]
  },
  {
   "cell_type": "markdown",
   "metadata": {},
   "source": [
    ".replace()"
   ]
  },
  {
   "cell_type": "code",
   "execution_count": 18,
   "metadata": {},
   "outputs": [
    {
     "data": {
      "text/plain": [
       "'el dia de hoy me siento feliz'"
      ]
     },
     "execution_count": 18,
     "metadata": {},
     "output_type": "execute_result"
    }
   ],
   "source": [
    "# .replace() nos ayudara a remplazar palabras de una cadena \n",
    "\n",
    "\"el dia de hoy me siento triste\".replace(\"triste\", \"feliz\")"
   ]
  },
  {
   "cell_type": "markdown",
   "metadata": {},
   "source": [
    ".lower () | .upper() 2.0\n"
   ]
  },
  {
   "cell_type": "code",
   "execution_count": 35,
   "metadata": {},
   "outputs": [
    {
     "data": {
      "text/plain": [
       "True"
      ]
     },
     "execution_count": 35,
     "metadata": {},
     "output_type": "execute_result"
    }
   ],
   "source": [
    "#lower y upper nos puede ayudar a buscar palabras las cuales tengan \n",
    "#caps intercaladas\n",
    "\n",
    "txt_5 = \"Hola companeros COMO estan ?\"\n",
    "\n",
    "#busca la palabra \"companeros\" en txt el cual por el metodo 'lower'\n",
    "#convirtio toda la variable en minusculas\n",
    "\"como\" in txt_5.lower()"
   ]
  },
  {
   "cell_type": "markdown",
   "metadata": {},
   "source": [
    ".join()"
   ]
  },
  {
   "cell_type": "code",
   "execution_count": 43,
   "metadata": {},
   "outputs": [
    {
     "data": {
      "text/plain": [
       "'Mi nombre es :()Claudio'"
      ]
     },
     "execution_count": 43,
     "metadata": {},
     "output_type": "execute_result"
    }
   ],
   "source": [
    "# [] se utilizan para crear listas las cuales empiezan por  0 como \n",
    "# primer elemento\n",
    "\n",
    "# para utilizar.join(variable a juntar) es necesario especificar con\n",
    "# que caracter juntaran las 2 cadenas -->'caracter para juntar'.join(variable a juntar)\n",
    "\n",
    "txt_lista = [\"Mi nombre es :\", \"Claudio\"] \n",
    "'()'.join(txt_lista)"
   ]
  },
  {
   "cell_type": "markdown",
   "metadata": {},
   "source": [
    "# Formatos en Cadenas\n"
   ]
  },
  {
   "cell_type": "markdown",
   "metadata": {},
   "source": [
    "formato con signo %"
   ]
  },
  {
   "cell_type": "code",
   "execution_count": 45,
   "metadata": {},
   "outputs": [
    {
     "name": "stdout",
     "output_type": "stream",
     "text": [
      "tengo 20 el proximo año cumplo 21\n"
     ]
    }
   ],
   "source": [
    "# marcage en cadena con '%s'\n",
    "# al final de la cadena se pone % y ('variables en orden para sustituir por %s')\n",
    "\n",
    "edad_actual = 20\n",
    "edad_proxi  = 21\n",
    "\n",
    "print(\"tengo %s el proximo año cumplo %s\" % (edad_actual, edad_proxi))"
   ]
  },
  {
   "cell_type": "markdown",
   "metadata": {},
   "source": [
    "foramto con {}"
   ]
  },
  {
   "cell_type": "code",
   "execution_count": 50,
   "metadata": {},
   "outputs": [
    {
     "name": "stdout",
     "output_type": "stream",
     "text": [
      "mi edad es 18 y estudio en la UDG en la carrera de Ing en Computacion\n",
      "\n",
      "mi edad es UDG y estudio en la 18 en la carrera de Ing en Computacion\n"
     ]
    }
   ],
   "source": [
    "# marcage en cadena con {} \n",
    "# al final de cadena se pone .format(variables) de este metodo puedes cambiar el orden\n",
    "# ya que las variables se enumeraran empezando con el numero 0  \n",
    "edad = 18\n",
    "escuela = 'UDG'\n",
    "#print con acomodo de lectura de variables\n",
    "\n",
    "print('mi edad es {} y estudio en la {} en la carrera de {}'.format(edad,escuela,\"Ing en Computacion\"))\n",
    "\n",
    "#print con enumeracion de variables                                     0      1            2\n",
    "print('\\nmi edad es {1} y estudio en la {0} en la carrera de {2}'.format(edad,escuela,\"Ing en Computacion\"))"
   ]
  },
  {
   "cell_type": "markdown",
   "metadata": {},
   "source": [
    "f strings\n"
   ]
  },
  {
   "cell_type": "code",
   "execution_count": 52,
   "metadata": {},
   "outputs": [
    {
     "name": "stdout",
     "output_type": "stream",
     "text": [
      "que onda como estas pepe\n"
     ]
    }
   ],
   "source": [
    "# empezar string con 'f' afuera de \"\" (f\"\")\n",
    "# marcage de variables con {variable a utilizar}  \n",
    "\n",
    "\n",
    "nombre = \" pepe\"\n",
    "print(f\"que onda como estas{nombre}\")"
   ]
  }
 ],
 "metadata": {
  "interpreter": {
   "hash": "85e7473f35fd2f1e4fb6d6073068045ad26f3fcdce39000475962fd84a63683c"
  },
  "kernelspec": {
   "display_name": "Python 3.10.2 64-bit",
   "language": "python",
   "name": "python3"
  },
  "language_info": {
   "codemirror_mode": {
    "name": "ipython",
    "version": 3
   },
   "file_extension": ".py",
   "mimetype": "text/x-python",
   "name": "python",
   "nbconvert_exporter": "python",
   "pygments_lexer": "ipython3",
   "version": "3.10.2"
  },
  "orig_nbformat": 4
 },
 "nbformat": 4,
 "nbformat_minor": 2
}
