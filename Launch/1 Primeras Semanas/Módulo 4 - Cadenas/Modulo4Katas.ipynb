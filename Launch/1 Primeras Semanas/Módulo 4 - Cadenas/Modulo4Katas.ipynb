{
 "cells": [
  {
   "cell_type": "markdown",
   "metadata": {},
   "source": [
    "# Ejercicio 1\n"
   ]
  },
  {
   "cell_type": "code",
   "execution_count": 10,
   "metadata": {},
   "outputs": [
    {
     "data": {
      "text/plain": [
       "['Interesting facts about the Moon',\n",
       " \"The Moon is Earth's only satellite\",\n",
       " 'There are several interesting facts about the Moon and how it affects life here on Earth',\n",
       " '\\nOn average, the Moon moves 4cm away from the Earth every year',\n",
       " 'This yearly drift is not significant enough to cause immediate effects on Earth',\n",
       " 'The highest daylight temperature of the Moon is 127 C.']"
      ]
     },
     "execution_count": 10,
     "metadata": {},
     "output_type": "execute_result"
    }
   ],
   "source": [
    "text = \"\"\"Interesting facts about the Moon. The Moon is Earth's only satellite. There are several interesting facts about the Moon and how it affects life here on Earth. \n",
    "On average, the Moon moves 4cm away from the Earth every year. This yearly drift is not significant enough to cause immediate effects on Earth. The highest daylight temperature of the Moon is 127 C.\"\"\"\n",
    "\n",
    "txt_list = text.split('. ')\n",
    "\n",
    "txt_list"
   ]
  },
  {
   "cell_type": "code",
   "execution_count": 13,
   "metadata": {},
   "outputs": [
    {
     "name": "stdout",
     "output_type": "stream",
     "text": [
      "The Moon is Earth's only satellite\n",
      "There are several interesting facts about the Moon and how it affects life here on Earth\n",
      "This yearly drift is not significant enough to cause immediate effects on Earth\n",
      "The highest daylight temperature of the Moon is 127 C.\n"
     ]
    }
   ],
   "source": [
    "palabras = [\"average\", \"temperature\", \"distance\"]\n",
    "\n",
    "for relacionados in txt_list:\n",
    "    for palabras in palabras:\n",
    "        if palabras in relacionados:\n",
    "            print(relacionados)\n",
    "            break"
   ]
  },
  {
   "cell_type": "code",
   "execution_count": 15,
   "metadata": {},
   "outputs": [
    {
     "name": "stdout",
     "output_type": "stream",
     "text": [
      "The Moon is Earth's only satellite\n",
      "There are several interesting facts about the Moon and how it affects life here on Earth\n",
      "This yearly drift is not significant enough to cause immediate effects on Earth\n",
      "The highest daylight temperature of the Moon is 127 Celsius.\n"
     ]
    }
   ],
   "source": [
    "palabras = [\"average\", \"temperature\", \"distance\"]\n",
    "\n",
    "for relacionados in txt_list:\n",
    "    for palabras in palabras:\n",
    "        if palabras in relacionados:\n",
    "            print(relacionados.replace(\"C\", \"Celsius\"))\n",
    "            break"
   ]
  },
  {
   "cell_type": "markdown",
   "metadata": {},
   "source": [
    "# Ejercicio 2\n"
   ]
  },
  {
   "cell_type": "code",
   "execution_count": 22,
   "metadata": {},
   "outputs": [
    {
     "name": "stdout",
     "output_type": "stream",
     "text": [
      "Gravedad En La Luna\n"
     ]
    }
   ],
   "source": [
    "name = \"Luna\"\n",
    "gravity = 0.00162 # en kms\n",
    "planet = \"Tierra\"\n",
    "\n",
    "titulo = \"gravedad en la {}\".title().format(name)\n",
    "\n",
    "print(titulo)"
   ]
  },
  {
   "cell_type": "code",
   "execution_count": 31,
   "metadata": {},
   "outputs": [
    {
     "name": "stdout",
     "output_type": "stream",
     "text": [
      "Gravedad En La Luna\n",
      "--------------------------------------------------------------------------------------------------------------------\n",
      "\n",
      "Nombre Del Planeta : Tierra\n",
      "Gravedad De Luna : 1.6199999999999999 M/S2\n"
     ]
    }
   ],
   "source": [
    "convertidor_kms_ms = gravity * 1000\n",
    "\n",
    "print(\"\"\"{3}\n",
    "--------------------------------------------------------------------------------------------------------------------\n",
    "\\nnombre del planeta : {2}\n",
    "gravedad de {1} : {0} m/s2\"\"\".title().format(convertidor_kms_ms,name,planet,titulo))"
   ]
  },
  {
   "cell_type": "code",
   "execution_count": 29,
   "metadata": {},
   "outputs": [],
   "source": [
    "name_2 = \"Titan\"\n",
    "gravedad = 0.0145 # en kms\n",
    "planet_2 = \"marte\"\n",
    "\n",
    "titulo_2 = \"gravedad en la {}\".title().format(name_2)\n",
    "\n",
    "convertidor_kms_ms = gravedad * 1000"
   ]
  },
  {
   "cell_type": "code",
   "execution_count": 33,
   "metadata": {},
   "outputs": [
    {
     "name": "stdout",
     "output_type": "stream",
     "text": [
      "Gravedad En La Titan\n",
      "-------------------------------------------------------------------------------------------------------------------- \n",
      "\n",
      "Nombre Del Planeta : marte\n",
      "Gravedad De Titan : 1.6199999999999999 M/S2\n"
     ]
    }
   ],
   "source": [
    "# mejor manera que ------------- {\"-\"* N}\n",
    "\n",
    "print(\"\"\"{3}\n",
    "-------------------------------------------------------------------------------------------------------------------- \n",
    "\\nnombre del planeta : {2}\n",
    "gravedad de {1} : {0} m/s2\"\"\".title().format(convertidor_kms_ms,name_2,planet_2,titulo_2))"
   ]
  }
 ],
 "metadata": {
  "interpreter": {
   "hash": "85e7473f35fd2f1e4fb6d6073068045ad26f3fcdce39000475962fd84a63683c"
  },
  "kernelspec": {
   "display_name": "Python 3.10.2 64-bit",
   "language": "python",
   "name": "python3"
  },
  "language_info": {
   "codemirror_mode": {
    "name": "ipython",
    "version": 3
   },
   "file_extension": ".py",
   "mimetype": "text/x-python",
   "name": "python",
   "nbconvert_exporter": "python",
   "pygments_lexer": "ipython3",
   "version": "3.10.2"
  },
  "orig_nbformat": 4
 },
 "nbformat": 4,
 "nbformat_minor": 2
}
