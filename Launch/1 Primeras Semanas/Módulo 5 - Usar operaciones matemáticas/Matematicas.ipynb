{
 "cells": [
  {
   "cell_type": "markdown",
   "metadata": {},
   "source": [
    "# Operadores\n"
   ]
  },
  {
   "cell_type": "code",
   "execution_count": 1,
   "metadata": {},
   "outputs": [
    {
     "name": "stdout",
     "output_type": "stream",
     "text": [
      "3\n"
     ]
    }
   ],
   "source": [
    "#Adicion (suma) \n",
    "\n",
    "suma = 1 + 2\n",
    "\n",
    "print(suma)"
   ]
  },
  {
   "cell_type": "code",
   "execution_count": 2,
   "metadata": {},
   "outputs": [
    {
     "name": "stdout",
     "output_type": "stream",
     "text": [
      "7\n"
     ]
    }
   ],
   "source": [
    "#Sustraccion (resta)\n",
    "\n",
    "resta = 10 - 3\n",
    "\n",
    "print(resta)"
   ]
  },
  {
   "cell_type": "code",
   "execution_count": 3,
   "metadata": {},
   "outputs": [
    {
     "name": "stdout",
     "output_type": "stream",
     "text": [
      "20\n"
     ]
    }
   ],
   "source": [
    "#Multiplicacion\n",
    "\n",
    "Multi = 10 * 2\n",
    "\n",
    "print(Multi)"
   ]
  },
  {
   "cell_type": "code",
   "execution_count": 4,
   "metadata": {},
   "outputs": [
    {
     "name": "stdout",
     "output_type": "stream",
     "text": [
      "5.0\n"
     ]
    }
   ],
   "source": [
    "#division\n",
    "\n",
    "division = 10 / 2\n",
    "\n",
    "print(division)"
   ]
  },
  {
   "cell_type": "markdown",
   "metadata": {},
   "source": [
    "# Trabajo con divison\n"
   ]
  },
  {
   "cell_type": "code",
   "execution_count": 8,
   "metadata": {},
   "outputs": [
    {
     "name": "stdout",
     "output_type": "stream",
     "text": [
      "17\n",
      "22\n",
      "1042 segundos es igual a 17 y 22 segundos\n"
     ]
    }
   ],
   "source": [
    "# segundos a minutos\n",
    "\n",
    "segundos = 1042\n",
    "#para redondear hacia abajo con division utilizar //\n",
    "minutos = segundos  //    60\n",
    "# '%' como operador nos dara el residuo\n",
    "segundos_restantes = segundos % 60\n",
    "\n",
    "print(minutos)\n",
    "print(segundos_restantes)\n",
    "\n",
    "print(f\"{segundos} segundos es igual a {minutos} y {segundos_restantes} segundos\")"
   ]
  },
  {
   "cell_type": "markdown",
   "metadata": {},
   "source": [
    "# Jerarquia en python\n",
    "\n",
    "* 1.- Paréntesis\n",
    "* 2.- Exponentes\n",
    "* 3.- Multiplicación y división\n",
    "* 4.- Suma y resta"
   ]
  },
  {
   "cell_type": "markdown",
   "metadata": {},
   "source": [
    "Convertir numeros negativos a positivos"
   ]
  },
  {
   "cell_type": "code",
   "execution_count": 13,
   "metadata": {},
   "outputs": [
    {
     "name": "stdout",
     "output_type": "stream",
     "text": [
      "23 -23\n",
      "23\n"
     ]
    }
   ],
   "source": [
    "a = 39 - 16\n",
    "b = 16 - 39\n",
    "\n",
    "print(a,b)\n",
    "#funcion abs nos dara el valor absoluto\n",
    "# valor absoluto se utiliza en la medicion de distacias ya que -23 y 23 en distancia se lo mismo\n",
    "print(abs(16-39))"
   ]
  },
  {
   "cell_type": "markdown",
   "metadata": {},
   "source": [
    "Redondeo"
   ]
  },
  {
   "cell_type": "code",
   "execution_count": 14,
   "metadata": {},
   "outputs": [
    {
     "name": "stdout",
     "output_type": "stream",
     "text": [
      "14\n",
      "15\n",
      "14\n"
     ]
    }
   ],
   "source": [
    "#funcion round ayudara a redondear valores que su valor sea mayor a .5\n",
    "\n",
    "print(round(14.5))\n",
    "print(round(14.51))\n",
    "print(round(14.49))"
   ]
  },
  {
   "cell_type": "markdown",
   "metadata": {},
   "source": [
    "# Biblioteca Math Python\n"
   ]
  },
  {
   "cell_type": "code",
   "execution_count": 15,
   "metadata": {},
   "outputs": [
    {
     "name": "stdout",
     "output_type": "stream",
     "text": [
      "15\n",
      "12\n"
     ]
    }
   ],
   "source": [
    "#redondeo con biblioteca python\n",
    "\n",
    "from math import ceil, floor\n",
    "\n",
    "redondeo_arriba = ceil(14.3)\n",
    "print(redondeo_arriba)\n",
    "\n",
    "redonde_abajo = floor(12.9)\n",
    "print(redonde_abajo)"
   ]
  }
 ],
 "metadata": {
  "interpreter": {
   "hash": "85e7473f35fd2f1e4fb6d6073068045ad26f3fcdce39000475962fd84a63683c"
  },
  "kernelspec": {
   "display_name": "Python 3.10.2 64-bit",
   "language": "python",
   "name": "python3"
  },
  "language_info": {
   "codemirror_mode": {
    "name": "ipython",
    "version": 3
   },
   "file_extension": ".py",
   "mimetype": "text/x-python",
   "name": "python",
   "nbconvert_exporter": "python",
   "pygments_lexer": "ipython3",
   "version": "3.10.2"
  },
  "orig_nbformat": 4
 },
 "nbformat": 4,
 "nbformat_minor": 2
}
