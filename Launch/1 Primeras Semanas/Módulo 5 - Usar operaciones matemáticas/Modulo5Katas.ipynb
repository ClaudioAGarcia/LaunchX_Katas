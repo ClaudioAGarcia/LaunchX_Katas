{
 "cells": [
  {
   "cell_type": "markdown",
   "metadata": {},
   "source": [
    "# Ejercicio 1\n"
   ]
  },
  {
   "cell_type": "code",
   "execution_count": 11,
   "metadata": {},
   "outputs": [
    {
     "name": "stdout",
     "output_type": "stream",
     "text": [
      "la distancia entre jupyter y la tierra es 628949330 en millas son 390577533.93\n",
      "\n",
      "la distancia entre la tierra y jupyetr es -628949330 en millas son -390577533.93\n"
     ]
    }
   ],
   "source": [
    "#distancia entre la tierra y jupiter\n",
    "\n",
    "d_tierra = 149597870 #km\n",
    "d_jupiter= 778547200 #km\n",
    "\n",
    "distancia_t_a_j             = d_tierra  -   d_jupiter\n",
    "\n",
    "distancia_j_a_t             = d_jupiter -   d_tierra\n",
    "\n",
    "distancia_t_a_j_abs         = abs(distancia_t_a_j)\n",
    "\n",
    "distancia_j_a_t_abs         = abs(distancia_j_a_t)\n",
    "\n",
    "distancia_j_a_t_millas      = distancia_j_a_t_abs * 0.621\n",
    "\n",
    "distancia_t_a_j_millas      = distancia_t_a_j * 0.621\n",
    "\n",
    "print(f\"\"\"la distancia entre jupyter y la tierra es {distancia_j_a_t} en millas son {distancia_j_a_t_millas}\n",
    "\\nla distancia entre la tierra y jupyetr es {distancia_t_a_j} en millas son {distancia_t_a_j_millas}\"\"\")\n",
    "\n"
   ]
  },
  {
   "cell_type": "markdown",
   "metadata": {},
   "source": [
    "# Ejercicio 2\n"
   ]
  },
  {
   "cell_type": "code",
   "execution_count": 13,
   "metadata": {},
   "outputs": [
    {
     "name": "stdout",
     "output_type": "stream",
     "text": [
      "te ayudare a calcular la distancia entre los planetas y entre el sol\n",
      "La distancia entre tus 2 planetas es de 56945700.0 millas\n"
     ]
    }
   ],
   "source": [
    "print(\"te ayudare a calcular la distancia entre los planetas y entre el sol\")\n",
    "\n",
    "dist_sol_planeta1   =   int(input(\"introduce la distancia del planeta 1 al sol :\"))\n",
    "dist_sol_planeta2   =   int(input(\"introduce la distancia del planeta 2 al sol :\"))\n",
    "\n",
    "\n",
    "dist_entre_planet   =   dist_sol_planeta1   -   dist_sol_planeta2\n",
    "\n",
    "dist_planet_abs     =   abs(dist_entre_planet)\n",
    "\n",
    "dist_millas         =   dist_planet_abs * 0.621\n",
    "\n",
    "print(f\"La distancia entre tus 2 planetas es de {dist_millas} millas\")\n",
    "\n"
   ]
  },
  {
   "cell_type": "code",
   "execution_count": null,
   "metadata": {},
   "outputs": [],
   "source": []
  }
 ],
 "metadata": {
  "interpreter": {
   "hash": "85e7473f35fd2f1e4fb6d6073068045ad26f3fcdce39000475962fd84a63683c"
  },
  "kernelspec": {
   "display_name": "Python 3.10.2 64-bit",
   "language": "python",
   "name": "python3"
  },
  "language_info": {
   "codemirror_mode": {
    "name": "ipython",
    "version": 3
   },
   "file_extension": ".py",
   "mimetype": "text/x-python",
   "name": "python",
   "nbconvert_exporter": "python",
   "pygments_lexer": "ipython3",
   "version": "3.10.2"
  },
  "orig_nbformat": 4
 },
 "nbformat": 4,
 "nbformat_minor": 2
}
