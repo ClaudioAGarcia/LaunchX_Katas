{
 "cells": [
  {
   "cell_type": "code",
   "execution_count": null,
   "metadata": {},
   "outputs": [],
   "source": [
    "# Para crear listas se abren [] y cada elemento se separa con \" , \"\n",
    "# en las listas los elementos empiezan desde 0 \n",
    "\n",
    "planetas = [\"Mercurio\", \"Venus\", \"Tierra\", \"Marte\", \"Jupiter\", \"Saturno\", \"Urano\",\"Neptuno\"]"
   ]
  },
  {
   "cell_type": "code",
   "execution_count": 3,
   "metadata": {},
   "outputs": [
    {
     "name": "stdout",
     "output_type": "stream",
     "text": [
      "El primer planeta es  Mercurio\n",
      "El segundo planeta es  Venus\n",
      "El quinto planeta es  Jupiter\n"
     ]
    }
   ],
   "source": [
    "# para acceder a un elemento de una lista se utilizan[\"posicion de la lista\"]\n",
    "\n",
    "planetas = [\"Mercurio\", \"Venus\", \"Tierra\", \"Marte\", \"Jupiter\", \"Saturno\", \"Urano\",\"Neptuno\"]\n",
    "\n",
    "print(\"El primer planeta es \", planetas[0])\n",
    "print(\"El segundo planeta es \", planetas[1])\n",
    "print(\"El quinto planeta es \", planetas[4])"
   ]
  },
  {
   "cell_type": "code",
   "execution_count": 6,
   "metadata": {},
   "outputs": [
    {
     "name": "stdout",
     "output_type": "stream",
     "text": [
      "el tercer planeta es el  planeta de los simios\n"
     ]
    }
   ],
   "source": [
    "#para cambiar elementos de una lista lo mejor que es \"'variable de lista'[\"posicion que deseas modifcar\"]\"\n",
    "\n",
    "planetas = [\"Mercurio\", \"Venus\", \"Tierra\", \"Marte\", \"Jupiter\", \"Saturno\", \"Urano\",\"Neptuno\"]\n",
    "\n",
    "planetas[2] = \"planeta de los simios\"\n",
    "\n",
    "print(\"el tercer planeta es el \",planetas[2])"
   ]
  },
  {
   "cell_type": "markdown",
   "metadata": {},
   "source": [
    "Longitud de Una Lista"
   ]
  },
  {
   "cell_type": "code",
   "execution_count": 3,
   "metadata": {},
   "outputs": [
    {
     "name": "stdout",
     "output_type": "stream",
     "text": [
      "8\n"
     ]
    }
   ],
   "source": [
    "# se usa la funcion len(\"variable con la lista\")\n",
    "# se puede guardar en otra variable para hacer uso de la longitud\n",
    "\n",
    "planetas = [\"Mercurio\", \"Venus\", \"Tierra\", \"Marte\", \"Jupiter\", \"Saturno\", \"Urano\",\"Neptuno\"]\n",
    "\n",
    "lo_planetas = len(planetas)\n",
    "\n",
    "print(lo_planetas)"
   ]
  },
  {
   "cell_type": "markdown",
   "metadata": {},
   "source": [
    "Agregar y elminar elementos de una lista"
   ]
  },
  {
   "cell_type": "code",
   "execution_count": 4,
   "metadata": {},
   "outputs": [
    {
     "name": "stdout",
     "output_type": "stream",
     "text": [
      "['Mercurio', 'Venus', 'Tierra', 'Marte', 'Jupiter', 'Saturno', 'Urano', 'Neptuno', 'Pluton']\n"
     ]
    }
   ],
   "source": [
    "# para agregar se utiliza la funcion .append \"planetas.append(\"elemento que quires agregar a la lista\")\"\n",
    "# este elemento lo pondra al final de la lista\n",
    "planetas = [\"Mercurio\", \"Venus\", \"Tierra\", \"Marte\", \"Jupiter\", \"Saturno\", \"Urano\",\"Neptuno\"]\n",
    "\n",
    "planetas.append(\"Pluton\")\n",
    "\n",
    "print(planetas)"
   ]
  },
  {
   "cell_type": "code",
   "execution_count": 6,
   "metadata": {},
   "outputs": [
    {
     "name": "stdout",
     "output_type": "stream",
     "text": [
      "['Mercurio', 'Venus', 'Tierra', 'Marte', 'Jupiter', 'Saturno', 'Urano']\n",
      "['Venus', 'Tierra', 'Marte', 'Jupiter', 'Saturno', 'Urano']\n"
     ]
    }
   ],
   "source": [
    "# Para poder eliminar un elemento de una lista se utiliza la funcion .pop(\"posicion del elemento a eliminar\")\n",
    "\n",
    "planetas = [\"Mercurio\", \"Venus\", \"Tierra\", \"Marte\", \"Jupiter\", \"Saturno\", \"Urano\",\"Neptuno\"]\n",
    "\n",
    "# si no se especifica el lugar eliminara el ultimo siempre\n",
    "planetas.pop()\n",
    "\n",
    "print(planetas)\n",
    "\n",
    "planetas.pop(0)\n",
    "\n",
    "print(planetas)"
   ]
  },
  {
   "cell_type": "markdown",
   "metadata": {},
   "source": [
    "Indices negativos"
   ]
  },
  {
   "cell_type": "code",
   "execution_count": 10,
   "metadata": {},
   "outputs": [
    {
     "name": "stdout",
     "output_type": "stream",
     "text": [
      "Neptuno\n",
      "Urano\n"
     ]
    }
   ],
   "source": [
    "# Para leer una lista desde el ultimo elemento se usa '-1' para la ultima posicion la penultima -2 y asi sucesivamente\n",
    "\n",
    "planetas = [\"Mercurio\", \"Venus\", \"Tierra\", \"Marte\", \"Jupiter\", \"Saturno\", \"Urano\",\"Neptuno\"]\n",
    "\n",
    "print(planetas[-1])\n",
    "print(planetas[-2])\n"
   ]
  },
  {
   "cell_type": "code",
   "execution_count": 13,
   "metadata": {},
   "outputs": [
    {
     "name": "stdout",
     "output_type": "stream",
     "text": [
      "2\n"
     ]
    },
    {
     "ename": "ValueError",
     "evalue": "'jierra' is not in list",
     "output_type": "error",
     "traceback": [
      "\u001b[1;31m---------------------------------------------------------------------------\u001b[0m",
      "\u001b[1;31mValueError\u001b[0m                                Traceback (most recent call last)",
      "\u001b[1;32mc:\\Users\\Tony\\Desktop\\Launch\\Módulo 6 - Introducción a las listas\\Listas.ipynb Cell 11'\u001b[0m in \u001b[0;36m<module>\u001b[1;34m\u001b[0m\n\u001b[0;32m      <a href='vscode-notebook-cell:/c%3A/Users/Tony/Desktop/Launch/M%C3%B3dulo%206%20-%20Introducci%C3%B3n%20a%20las%20listas/Listas.ipynb#ch0000011?line=2'>3</a>\u001b[0m planetas \u001b[39m=\u001b[39m [\u001b[39m\"\u001b[39m\u001b[39mMercurio\u001b[39m\u001b[39m\"\u001b[39m, \u001b[39m\"\u001b[39m\u001b[39mVenus\u001b[39m\u001b[39m\"\u001b[39m, \u001b[39m\"\u001b[39m\u001b[39mTierra\u001b[39m\u001b[39m\"\u001b[39m, \u001b[39m\"\u001b[39m\u001b[39mMarte\u001b[39m\u001b[39m\"\u001b[39m, \u001b[39m\"\u001b[39m\u001b[39mJupiter\u001b[39m\u001b[39m\"\u001b[39m, \u001b[39m\"\u001b[39m\u001b[39mSaturno\u001b[39m\u001b[39m\"\u001b[39m, \u001b[39m\"\u001b[39m\u001b[39mUrano\u001b[39m\u001b[39m\"\u001b[39m,\u001b[39m\"\u001b[39m\u001b[39mNeptuno\u001b[39m\u001b[39m\"\u001b[39m]\n\u001b[0;32m      <a href='vscode-notebook-cell:/c%3A/Users/Tony/Desktop/Launch/M%C3%B3dulo%206%20-%20Introducci%C3%B3n%20a%20las%20listas/Listas.ipynb#ch0000011?line=4'>5</a>\u001b[0m \u001b[39mprint\u001b[39m(planetas\u001b[39m.\u001b[39mindex(\u001b[39m'\u001b[39m\u001b[39mTierra\u001b[39m\u001b[39m'\u001b[39m))\n\u001b[1;32m----> <a href='vscode-notebook-cell:/c%3A/Users/Tony/Desktop/Launch/M%C3%B3dulo%206%20-%20Introducci%C3%B3n%20a%20las%20listas/Listas.ipynb#ch0000011?line=6'>7</a>\u001b[0m \u001b[39mprint\u001b[39m(planetas\u001b[39m.\u001b[39;49mindex(\u001b[39m'\u001b[39;49m\u001b[39mjierra\u001b[39;49m\u001b[39m'\u001b[39;49m))\n",
      "\u001b[1;31mValueError\u001b[0m: 'jierra' is not in list"
     ]
    }
   ],
   "source": [
    "#para buscar la posicion de un elemento se utiliza la funcion .index(\"Elemento a buscar\") sino se encuentra devolvera -1\n",
    "\n",
    "planetas = [\"Mercurio\", \"Venus\", \"Tierra\", \"Marte\", \"Jupiter\", \"Saturno\", \"Urano\",\"Neptuno\"]\n",
    "#nos dara la posicion del elemento\n",
    "print(planetas.index('Tierra'))\n",
    "\n",
    "print(planetas.index('jierra'))\n"
   ]
  },
  {
   "cell_type": "markdown",
   "metadata": {},
   "source": [
    "Trabajar con Numeros en listas"
   ]
  },
  {
   "cell_type": "code",
   "execution_count": 14,
   "metadata": {},
   "outputs": [
    {
     "name": "stdout",
     "output_type": "stream",
     "text": [
      "El peso de un camion en la tierra es de  12500\n",
      "El peso de un camion en mercurio es de  4725.0\n"
     ]
    }
   ],
   "source": [
    "# solo es necesario poner el valor separado con una coma\n",
    "gravedad_planetas = [0.378, 0.907, 1, 0.379, 2.36, 0.916, 0.889, 1.12]\n",
    "\n",
    "# calcula la gravedad en mercurio  y el peso de un camion en este planeta\n",
    "\n",
    "cam_peso = 12500 # kg en la tierra\n",
    "\n",
    "print(\"El peso de un camion en la tierra es de \", cam_peso)\n",
    "print(\"El peso de un camion en mercurio es de \", cam_peso * gravedad_planetas[0])\n",
    "\n"
   ]
  },
  {
   "cell_type": "code",
   "execution_count": 16,
   "metadata": {},
   "outputs": [
    {
     "name": "stdout",
     "output_type": "stream",
     "text": [
      "El peso de un camion en la tierra es de  12500\n",
      "El peso de un camion en la la mayor gravedad es de  29500.0\n",
      "El peso de un camion en la la minima gravedad es de  4725.0\n"
     ]
    }
   ],
   "source": [
    "# Para calcucar los valores mas grandes y mas pequenos de una lista se usan las funciones max() y min()\n",
    "\n",
    "gravedad_planetas = [0.378, 0.907, 1, 0.379, 2.36, 0.916, 0.889, 1.12]\n",
    "\n",
    "print(\"El peso de un camion en la tierra es de \", cam_peso)\n",
    "print(\"El peso de un camion en la la mayor gravedad es de \", cam_peso * max(gravedad_planetas))\n",
    "print(\"El peso de un camion en la la minima gravedad es de \", cam_peso * min(gravedad_planetas))"
   ]
  },
  {
   "cell_type": "markdown",
   "metadata": {},
   "source": [
    "Separar listas"
   ]
  },
  {
   "cell_type": "code",
   "execution_count": 20,
   "metadata": {},
   "outputs": [
    {
     "name": "stdout",
     "output_type": "stream",
     "text": [
      "['Mercurio', 'Venus']\n",
      "['Marte', 'Jupiter', 'Saturno', 'Urano']\n",
      "['Marte', 'Jupiter', 'Saturno', 'Urano', 'Neptuno']\n",
      "['Marte', 'Jupiter', 'Saturno', 'Urano', 'Neptuno']\n"
     ]
    }
   ],
   "source": [
    "# partir una lista en dos es se usa utilizando la los [\"inicio de lista : final de la lista\"]\n",
    "\n",
    "planetas = [\"Mercurio\", \"Venus\", \"Tierra\", \"Marte\", \"Jupiter\", \"Saturno\", \"Urano\",\"Neptuno\"]\n",
    "\n",
    "# al momento de imprimir la nueva lista evitara el ultimo lugar seleccionado\n",
    "print(planetas[0:2])\n",
    "# al momento de imprimir la nueva lista evitara el ultimo lugar seleccionado\n",
    "print(planetas[3:7])\n",
    "# en esta ocasion imprime neptuno gracias a que especificamos una posicion extra \n",
    "print(planetas[3:8])\n",
    "# si no se especifica un lugar para terminar la nueva lista python interpretara que quieres ir al final de esta\n",
    "print(planetas[3:])\n"
   ]
  },
  {
   "cell_type": "markdown",
   "metadata": {},
   "source": [
    "Unir listas"
   ]
  },
  {
   "cell_type": "code",
   "execution_count": 21,
   "metadata": {},
   "outputs": [
    {
     "name": "stdout",
     "output_type": "stream",
     "text": [
      "El sistema solar se compone de estos planetasd ['Mercurio', 'Venus', 'Tierra', 'Marte', 'Jupiter', 'Saturno', 'Urano', 'Neptuno']\n"
     ]
    }
   ],
   "source": [
    "# Para concatenar una lista con otra lista se usa el signo de suma\n",
    "\n",
    "planetas_1 = [\"Mercurio\", \"Venus\", \"Tierra\", \"Marte\"]\n",
    "planetas_2 = [\"Jupiter\", \"Saturno\", \"Urano\",\"Neptuno\"]\n",
    "\n",
    "planetas_completos = planetas_1 + planetas_2\n",
    "\n",
    "print(\"El sistema solar se compone de estos planetasd\", planetas_completos)"
   ]
  },
  {
   "cell_type": "markdown",
   "metadata": {},
   "source": [
    "Ordenar listas"
   ]
  },
  {
   "cell_type": "code",
   "execution_count": 24,
   "metadata": {},
   "outputs": [
    {
     "name": "stdout",
     "output_type": "stream",
     "text": [
      "['Jupiter', 'Marte', 'Mercurio', 'Neptuno', 'Saturno', 'Tierra', 'Urano', 'Venus']\n",
      "['Venus', 'Urano', 'Tierra', 'Saturno', 'Neptuno', 'Mercurio', 'Marte', 'Jupiter']\n"
     ]
    }
   ],
   "source": [
    "# para ordenar una lista por orden alfabetico se utiliza la funcion .sort()\n",
    "\n",
    "planetas_1 = [\"Mercurio\", \"Venus\", \"Tierra\", \"Marte\"]\n",
    "planetas_2 = [\"Jupiter\", \"Saturno\", \"Urano\",\"Neptuno\"]\n",
    "\n",
    "planetas_completos = planetas_1 + planetas_2\n",
    "\n",
    "planetas_completos.sort()\n",
    "\n",
    "print(planetas_completos)\n",
    "\n",
    "#para ordenar una lista al reves se utiliza la funcion .sort(reverse=True)\n",
    "\n",
    "planetas_completos.sort(reverse=True)\n",
    "#en este caso imprimio la lista acomodada en orden alfabetico al reves ya que .sort modifica la lista acual y no la original\n",
    "print(planetas_completos)\n"
   ]
  }
 ],
 "metadata": {
  "interpreter": {
   "hash": "cf904a10e4619daab283541d787de3408e9d1b7f70595e66a1f1bf57517276f9"
  },
  "kernelspec": {
   "display_name": "Python 3.10.2 64-bit (windows store)",
   "language": "python",
   "name": "python3"
  },
  "language_info": {
   "codemirror_mode": {
    "name": "ipython",
    "version": 3
   },
   "file_extension": ".py",
   "mimetype": "text/x-python",
   "name": "python",
   "nbconvert_exporter": "python",
   "pygments_lexer": "ipython3",
   "version": "3.10.2"
  },
  "orig_nbformat": 4
 },
 "nbformat": 4,
 "nbformat_minor": 2
}
