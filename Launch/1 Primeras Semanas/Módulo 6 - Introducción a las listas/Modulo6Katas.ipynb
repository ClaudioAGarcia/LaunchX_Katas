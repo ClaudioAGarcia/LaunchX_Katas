{
 "cells": [
  {
   "cell_type": "markdown",
   "metadata": {},
   "source": [
    "# Ejercicio 1"
   ]
  },
  {
   "cell_type": "code",
   "execution_count": null,
   "metadata": {},
   "outputs": [],
   "source": [
    "planetas = [\"Mercurio\", \"Venus\", \"Tierra\", \"Marte\", \"Jupiter\", \"Saturno\", \"Urano\",\"Neptuno\"]"
   ]
  },
  {
   "cell_type": "code",
   "execution_count": 4,
   "metadata": {},
   "outputs": [
    {
     "name": "stdout",
     "output_type": "stream",
     "text": [
      "El numero de planetas en el sistema solar son :  9\n",
      "El ultimo planeta del sistema solar es :  Pluton\n"
     ]
    }
   ],
   "source": [
    "planetas = [\"Mercurio\", \"Venus\", \"Tierra\", \"Marte\", \"Jupiter\", \"Saturno\", \"Urano\",\"Neptuno\"]\n",
    "\n",
    "planetas.append(\"Pluton\")\n",
    "\n",
    "print(\"El numero de planetas en el sistema solar son : \",len(planetas))\n",
    "\n",
    "print(\"El ultimo planeta del sistema solar es : \", planetas[-1])"
   ]
  },
  {
   "cell_type": "markdown",
   "metadata": {},
   "source": [
    "# Ejercicio 2"
   ]
  },
  {
   "cell_type": "code",
   "execution_count": 22,
   "metadata": {},
   "outputs": [
    {
     "name": "stdout",
     "output_type": "stream",
     "text": [
      "Tu planeta es el numero 3 mas cercano al sol\n",
      "Planetas mas cercanos al sol que Tierra : ['Mercurio', 'Venus']\n",
      "Planetas mas lejos al sol que Tierra : ['Marte', 'Jupiter', 'Saturno', 'Urano', 'Neptuno']\n"
     ]
    }
   ],
   "source": [
    "planetas = [\"Mercurio\", \"Venus\", \"Tierra\", \"Marte\", \"Jupiter\", \"Saturno\", \"Urano\",\"Neptuno\"]\n",
    "\n",
    "planeta_buscar = input(\"Introdusca el planeta que desea buscar (Por favor la primera letra en mayuscula) :\")\n",
    "\n",
    "lugar_planeta_lista = planetas.index(planeta_buscar)\n",
    "\n",
    "lugar_planeta_real  = lugar_planeta_lista + 1\n",
    "\n",
    "print(\"Tu planeta es el numero\", lugar_planeta_real, \"mas cercano al sol\")\n",
    "\n",
    "print(\"Planetas mas cercanos al sol que\", planeta_buscar,\":\", planetas[0:lugar_planeta_lista])\n",
    "\n",
    "print(\"Planetas mas lejos al sol que\",planeta_buscar,\":\",planetas[lugar_planeta_real:])\n",
    "\n",
    "\n"
   ]
  }
 ],
 "metadata": {
  "interpreter": {
   "hash": "cf904a10e4619daab283541d787de3408e9d1b7f70595e66a1f1bf57517276f9"
  },
  "kernelspec": {
   "display_name": "Python 3.10.2 64-bit (windows store)",
   "language": "python",
   "name": "python3"
  },
  "language_info": {
   "codemirror_mode": {
    "name": "ipython",
    "version": 3
   },
   "file_extension": ".py",
   "mimetype": "text/x-python",
   "name": "python",
   "nbconvert_exporter": "python",
   "pygments_lexer": "ipython3",
   "version": "3.10.2"
  },
  "orig_nbformat": 4
 },
 "nbformat": 4,
 "nbformat_minor": 2
}
