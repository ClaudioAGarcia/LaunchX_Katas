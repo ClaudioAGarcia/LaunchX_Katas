{
 "cells": [
  {
   "cell_type": "markdown",
   "metadata": {},
   "source": [
    "Creacion de Diccionarios\n"
   ]
  },
  {
   "cell_type": "code",
   "execution_count": null,
   "metadata": {},
   "outputs": [],
   "source": [
    "# los diccionarios ayudaran a guardar variables de manera mas facil sin necesidad de repetir varias veces una variable cambiandole el nombre\n",
    "# para abrir un diccionario se utilizan {} y : para indicar que es un diccioanrio\n",
    "\n",
    "planetas = {\n",
    "    'nombre'    :   'Tierra',\n",
    "    'lunas'     :   1\n",
    "}"
   ]
  },
  {
   "cell_type": "markdown",
   "metadata": {},
   "source": [
    "Lectura de diccionarios"
   ]
  },
  {
   "cell_type": "code",
   "execution_count": 3,
   "metadata": {},
   "outputs": [
    {
     "name": "stdout",
     "output_type": "stream",
     "text": [
      "Tierra\n"
     ]
    }
   ],
   "source": [
    "# Para leer los valores de una lista es necesario utilizar .get \"planetas.get(\"nombre\") siempre tiene que ir el elemento a llamar entre comillas\n",
    "\n",
    "planetas = {\n",
    "    'nombre'    :   'Tierra',\n",
    "    'lunas'     :   1\n",
    "}\n",
    "\n",
    "print(planetas.get(\"nombre\"))"
   ]
  },
  {
   "cell_type": "code",
   "execution_count": null,
   "metadata": {},
   "outputs": [],
   "source": [
    "# otra forma para leer los elementos de una lista es con [] y para llamar a la variable se utiliza \"\"\n",
    "\n",
    "planetas = {\n",
    "    'nombre'    :   'Tierra',\n",
    "    'lunas'     :   1\n",
    "}\n",
    "\n",
    "print(planetas['lunas'])\n",
    "# diferencias de .get y []\n",
    "\n",
    "print(planetas.get('calor')) #.get nos dara  error 'none' ya que no encontrara la variable 'calor'\n",
    "\n",
    "print(planetas['moons'])    # [] nos dara  error 'Key error' ya que no encontrara la variable 'moons'\n"
   ]
  },
  {
   "cell_type": "markdown",
   "metadata": {},
   "source": [
    "Cambiar Diccionarios "
   ]
  },
  {
   "cell_type": "code",
   "execution_count": 19,
   "metadata": {},
   "outputs": [
    {
     "name": "stdout",
     "output_type": "stream",
     "text": [
      "nombres_planetas\n"
     ]
    }
   ],
   "source": [
    "# para poder cambiar el valor de una variable de un diccionario se usa la funcion '.update' seleccionando la variable a cambiar y especificando el nuevo valor\n",
    "\n",
    "planetas = {\n",
    "    'nombre'    :   'Tierra',\n",
    "    'lunas'     :   1\n",
    "}\n",
    "\n",
    "planetas.update({'nombre' : 'nombres_planetas'}) \n",
    "\n",
    "print(planetas['nombre'])"
   ]
  },
  {
   "cell_type": "code",
   "execution_count": 20,
   "metadata": {},
   "outputs": [
    {
     "name": "stdout",
     "output_type": "stream",
     "text": [
      "jupiter\n"
     ]
    }
   ],
   "source": [
    "# tambien se puede utilizar '[variable a modificar] = \"nuevo valor de la variable\"\n",
    "\n",
    "planetas = {\n",
    "    'nombre'    :   'Tierra',\n",
    "    'lunas'     :   1\n",
    "}\n",
    "\n",
    "planetas['nombre'] = 'jupiter'\n",
    "\n",
    "print(planetas['nombre'])"
   ]
  },
  {
   "cell_type": "markdown",
   "metadata": {},
   "source": [
    "Adicion y eliminacion claves"
   ]
  },
  {
   "cell_type": "code",
   "execution_count": 21,
   "metadata": {},
   "outputs": [
    {
     "name": "stdout",
     "output_type": "stream",
     "text": [
      "{'nueva variable': 'nv'}\n"
     ]
    }
   ],
   "source": [
    "# para agregar variableas a un diccionario se puede usar [\"nombre de nueva variable\"] = 'valor de la nueva variable'\n",
    "\n",
    "diccionario ={\n",
    "}\n",
    "\n",
    "diccionario['nueva variable'] = 'nv'\n",
    "\n",
    "\n",
    "print(diccionario)\n"
   ]
  },
  {
   "cell_type": "code",
   "execution_count": 24,
   "metadata": {},
   "outputs": [
    {
     "name": "stdout",
     "output_type": "stream",
     "text": [
      "{'lunas': 1}\n"
     ]
    }
   ],
   "source": [
    "#para eliminar variables de un diccionario se utiliza la funcion .pop(nombre de variable a eliminar)\n",
    "\n",
    "planetas = {\n",
    "    'nombre'    :   'Tierra',\n",
    "    'lunas'     :   1\n",
    "}\n",
    "\n",
    "planetas.pop('nombre')\n",
    "\n",
    "print(planetas)"
   ]
  }
 ],
 "metadata": {
  "interpreter": {
   "hash": "cf904a10e4619daab283541d787de3408e9d1b7f70595e66a1f1bf57517276f9"
  },
  "kernelspec": {
   "display_name": "Python 3.10.2 64-bit (windows store)",
   "language": "python",
   "name": "python3"
  },
  "language_info": {
   "codemirror_mode": {
    "name": "ipython",
    "version": 3
   },
   "file_extension": ".py",
   "mimetype": "text/x-python",
   "name": "python",
   "nbconvert_exporter": "python",
   "pygments_lexer": "ipython3",
   "version": "3.10.2"
  },
  "orig_nbformat": 4
 },
 "nbformat": 4,
 "nbformat_minor": 2
}
