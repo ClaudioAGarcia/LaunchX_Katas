{
 "cells": [
  {
   "cell_type": "markdown",
   "metadata": {},
   "source": [
    "# Ejercicio 1"
   ]
  },
  {
   "cell_type": "code",
   "execution_count": 3,
   "metadata": {},
   "outputs": [
    {
     "name": "stdout",
     "output_type": "stream",
     "text": [
      "Mars\n",
      "2\n"
     ]
    }
   ],
   "source": [
    "planet ={\n",
    "    'name'  : 'Mars',\n",
    "    'moons' :  2\n",
    "}\n",
    "\n",
    "print(planet['name'])\n",
    "print(planet['moons'])"
   ]
  },
  {
   "cell_type": "code",
   "execution_count": 12,
   "metadata": {},
   "outputs": [
    {
     "name": "stdout",
     "output_type": "stream",
     "text": [
      "Mars diametro polar: 6752\n"
     ]
    }
   ],
   "source": [
    "planet ={\n",
    "    'name'  : 'Mars',\n",
    "    'moons' :  2\n",
    "}\n",
    "\n",
    "planet['circunferencia (km)'] = {\n",
    "    'polar'         : '6752',\n",
    "    'equatorial'    : '6792'\n",
    "}\n",
    "\n",
    "print(f'{planet[\"name\"]} diametro polar: {planet[\"circunferencia (km)\"][\"polar\"]}')\n"
   ]
  },
  {
   "cell_type": "markdown",
   "metadata": {},
   "source": [
    "# Ejercicio 2"
   ]
  },
  {
   "cell_type": "code",
   "execution_count": 15,
   "metadata": {},
   "outputs": [
    {
     "name": "stdout",
     "output_type": "stream",
     "text": [
      "17.833333333333332\n"
     ]
    }
   ],
   "source": [
    "planet_moons = {\n",
    "    'mercury': 0,\n",
    "    'venus': 0,\n",
    "    'earth': 1,\n",
    "    'mars': 2,\n",
    "    'jupiter': 79,\n",
    "    'saturn': 82,\n",
    "    'uranus': 27,\n",
    "    'neptune': 14,\n",
    "    'pluto': 5,\n",
    "    'haumea': 2,\n",
    "    'makemake': 1,\n",
    "    'eris': 1\n",
    "}\n",
    "\n",
    "lunas = planet_moons.values()\n",
    "\n",
    "planetas = len(planet_moons.keys())\n",
    "\n",
    "total_lunas = 0 \n",
    "\n",
    "for lunas in lunas:\n",
    "    total_lunas = total_lunas + lunas\n",
    "\n",
    "promedio = total_lunas / planetas\n",
    "\n",
    "print(promedio)\n"
   ]
  }
 ],
 "metadata": {
  "interpreter": {
   "hash": "cf904a10e4619daab283541d787de3408e9d1b7f70595e66a1f1bf57517276f9"
  },
  "kernelspec": {
   "display_name": "Python 3.10.2 64-bit (windows store)",
   "language": "python",
   "name": "python3"
  },
  "language_info": {
   "codemirror_mode": {
    "name": "ipython",
    "version": 3
   },
   "file_extension": ".py",
   "mimetype": "text/x-python",
   "name": "python",
   "nbconvert_exporter": "python",
   "pygments_lexer": "ipython3",
   "version": "3.10.2"
  },
  "orig_nbformat": 4
 },
 "nbformat": 4,
 "nbformat_minor": 2
}
