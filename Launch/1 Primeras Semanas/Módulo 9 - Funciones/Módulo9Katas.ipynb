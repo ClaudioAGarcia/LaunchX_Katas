{
 "cells": [
  {
   "cell_type": "markdown",
   "metadata": {},
   "source": [
    "# Ejercicio 1"
   ]
  },
  {
   "cell_type": "code",
   "execution_count": 14,
   "metadata": {},
   "outputs": [
    {
     "name": "stdout",
     "output_type": "stream",
     "text": [
      " Gas en la nave: \n",
      "Gas en los tres tanques : 73.33333333333333 %\n",
      "Tanque 1 : 90%\n",
      "Tanque 2 : 80%\n",
      "Tanque 3 : 50%\n",
      "\n"
     ]
    }
   ],
   "source": [
    "def promedio(valores):\n",
    "    total = sum(valores)\n",
    "    numeroDeItems = len(valores)\n",
    "    return total / numeroDeItems\n",
    "\n",
    "promedio([90,80,50])\n",
    "\n",
    "\n",
    "def combustible(gas1,gas2,gas3):\n",
    "    return f\"\"\" Gas en la nave: \n",
    "Gas en los tres tanques : {promedio([gas1,gas2,gas3])} %\n",
    "Tanque 1 : {gas1}%\n",
    "Tanque 2 : {gas2}%\n",
    "Tanque 3 : {gas3}%\n",
    "\"\"\"\n",
    "\n",
    "print(combustible(90,80,50))"
   ]
  },
  {
   "cell_type": "markdown",
   "metadata": {},
   "source": [
    "# Ejercicio 2"
   ]
  },
  {
   "cell_type": "code",
   "execution_count": 21,
   "metadata": {},
   "outputs": [
    {
     "name": "stdout",
     "output_type": "stream",
     "text": [
      "\n",
      "    Mision a Luna\n",
      "    Tiempo de viaje: 74 minutos\n",
      "    Gasolina Total: 500000\n",
      "    main gasolina --> 300000 Litros faltantes\n",
      "external gasolina --> 200000 Litros faltantes\n",
      "\n"
     ]
    }
   ],
   "source": [
    "def reporteNave(destination, *minutes, **fuel_reservoirs):\n",
    "    return f\"\"\"\n",
    "    Mision a {destination}\n",
    "    Tiempo de viaje: {sum(minutes)} minutos\n",
    "    Gasolina Total: {sum(fuel_reservoirs.values())}\n",
    "    \"\"\"\n",
    "\n",
    "def reporteNave(destino, *minutos, **gasolina):\n",
    "    reporte = f\"\"\"\n",
    "    Mision a {destino}\n",
    "    Tiempo de viaje: {sum(minutos)} minutos\n",
    "    Gasolina Total: {sum(gasolina.values())}\n",
    "    \"\"\"\n",
    "    for tanqueGas, galones in gasolina.items():\n",
    "        reporte += f\"{tanqueGas} gasolina --> {galones} Litros faltantes\\n\"\n",
    "    return reporte\n",
    "\n",
    "print(reporteNave(\"Luna\", 8, 11, 55, main=150000, external=100000))"
   ]
  },
  {
   "cell_type": "code",
   "execution_count": null,
   "metadata": {},
   "outputs": [],
   "source": []
  }
 ],
 "metadata": {
  "interpreter": {
   "hash": "cf904a10e4619daab283541d787de3408e9d1b7f70595e66a1f1bf57517276f9"
  },
  "kernelspec": {
   "display_name": "Python 3.10.2 64-bit (windows store)",
   "language": "python",
   "name": "python3"
  },
  "language_info": {
   "codemirror_mode": {
    "name": "ipython",
    "version": 3
   },
   "file_extension": ".py",
   "mimetype": "text/x-python",
   "name": "python",
   "nbconvert_exporter": "python",
   "pygments_lexer": "ipython3",
   "version": "3.10.2"
  },
  "orig_nbformat": 4
 },
 "nbformat": 4,
 "nbformat_minor": 2
}
