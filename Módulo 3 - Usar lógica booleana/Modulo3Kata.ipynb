{
 "cells": [
  {
   "cell_type": "markdown",
   "metadata": {},
   "source": [
    "# Aplicacion Alerta Asteriode\n",
    "\n",
    "Claudio Antonio Garibay Garcia"
   ]
  },
  {
   "cell_type": "markdown",
   "metadata": {},
   "source": [
    "# Aplicacion para alerta"
   ]
  },
  {
   "cell_type": "code",
   "execution_count": 3,
   "metadata": {},
   "outputs": [
    {
     "name": "stdout",
     "output_type": "stream",
     "text": [
      "nada que pueda destruir la tierra esta cerca\n"
     ]
    }
   ],
   "source": [
    "vel_aste =  24\n",
    "\n",
    "if vel_aste > 25:\n",
    "    print('advertencia destruccion masiva inminente')\n",
    "else:\n",
    "    print('nada que pueda destruir la tierra esta cerca')"
   ]
  },
  {
   "cell_type": "markdown",
   "metadata": {},
   "source": [
    "# Aplicacion Estrella Fugas"
   ]
  },
  {
   "cell_type": "code",
   "execution_count": 7,
   "metadata": {},
   "outputs": [
    {
     "name": "stdout",
     "output_type": "stream",
     "text": [
      "Estrella fugas en camino mira el cielo\n"
     ]
    }
   ],
   "source": [
    "vel_aste = 21\n",
    "\n",
    "if vel_aste > 20:\n",
    "    print(\"Estrella fugas en camino mira el cielo\")\n",
    "elif vel_aste == 20:\n",
    "    print(\"Estrella fugas en camino mira el cielo\")\n",
    "else:\n",
    "    print(\"si vemos algo en el cielo te avisaremos\")"
   ]
  },
  {
   "cell_type": "markdown",
   "metadata": {},
   "source": [
    "# Aplicaion completa\n"
   ]
  },
  {
   "cell_type": "code",
   "execution_count": 30,
   "metadata": {},
   "outputs": [
    {
     "name": "stdout",
     "output_type": "stream",
     "text": [
      "nada que puedas ver en el cielo\n"
     ]
    }
   ],
   "source": [
    "vel_aste = 1 #kilometros por hora\n",
    "tam_aste = 1#metros\n",
    "\n",
    "if tam_aste >= 26 or vel_aste >= 26:\n",
    "    print('Destruccion masiva inminente huye')\n",
    "elif  tam_aste >= 24 and tam_aste <= 20:\n",
    "    print('mira arriba estrella fugas')\n",
    "else:\n",
    "    print('nada que puedas ver en el cielo')\n"
   ]
  }
 ],
 "metadata": {
  "interpreter": {
   "hash": "85e7473f35fd2f1e4fb6d6073068045ad26f3fcdce39000475962fd84a63683c"
  },
  "kernelspec": {
   "display_name": "Python 3.10.2 64-bit",
   "language": "python",
   "name": "python3"
  },
  "language_info": {
   "codemirror_mode": {
    "name": "ipython",
    "version": 3
   },
   "file_extension": ".py",
   "mimetype": "text/x-python",
   "name": "python",
   "nbconvert_exporter": "python",
   "pygments_lexer": "ipython3",
   "version": "3.10.2"
  },
  "orig_nbformat": 4
 },
 "nbformat": 4,
 "nbformat_minor": 2
}
