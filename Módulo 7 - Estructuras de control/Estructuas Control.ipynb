{
 "cells": [
  {
   "cell_type": "markdown",
   "metadata": {},
   "source": [
    "# While"
   ]
  },
  {
   "cell_type": "code",
   "execution_count": null,
   "metadata": {},
   "outputs": [],
   "source": [
    "# while nos ayudara a repetir una accion mientras la condicion que le demos sea verdadera\n",
    "# Lo más importante que se debe recordar al crear ciclos while es asegurarse de que cambia la condición. \n",
    "# Si la condición siempre es True, Python seguirá ejecutando el código hasta que el programa se bloquee.\n",
    "\n",
    "user_input = \"\"\n",
    "\n",
    "while user_input.lower() != \"listo\":\n",
    "    user_input = input(\"Introduce un nuevo valor,al terminar escribe 'listo'\")\n",
    "\n",
    "print(user_input)"
   ]
  },
  {
   "cell_type": "code",
   "execution_count": 8,
   "metadata": {},
   "outputs": [
    {
     "name": "stdout",
     "output_type": "stream",
     "text": [
      "['hola', 'como estas', 'wey']\n"
     ]
    }
   ],
   "source": [
    "#esta variable guardara texto\n",
    "user_input = \"\"\n",
    "#esta variable guardara los valores en una lista \n",
    "inputs = []\n",
    "\n",
    "#mientras user_input no sea 'listo'\n",
    "while user_input.lower() != \"listo\":\n",
    "#comprueba el valor de user_input  \n",
    "    if user_input:\n",
    "#guarda el valor de user_input en inputs      \n",
    "        inputs.append(user_input)\n",
    "#vuelve a imprimir input\n",
    "    user_input  =   input(\"Introduce un nuevo valor,al terminar escribe 'listo'\")\n",
    "\n",
    "print(inputs)"
   ]
  },
  {
   "cell_type": "markdown",
   "metadata": {},
   "source": [
    "# For"
   ]
  },
  {
   "cell_type": "code",
   "execution_count": 11,
   "metadata": {},
   "outputs": [
    {
     "name": "stdout",
     "output_type": "stream",
     "text": [
      "4\n",
      "3\n",
      "2\n",
      "1\n",
      "0\n",
      "lanzamiento...\n"
     ]
    }
   ],
   "source": [
    "#for nos ayudara a leer de manera facil los valores de una lista y actuar mediante las instrucciones que le demos\n",
    "\n",
    "# lista con elementos\n",
    "cuentaAtras = [4,3,2,1,0,]\n",
    "\n",
    "for number in cuentaAtras:\n",
    "    print(number)\n",
    "print(\"lanzamiento...\")"
   ]
  },
  {
   "cell_type": "code",
   "execution_count": 12,
   "metadata": {},
   "outputs": [
    {
     "name": "stdout",
     "output_type": "stream",
     "text": [
      "4\n",
      "3\n",
      "2\n",
      "1\n",
      "0\n",
      "lanzamiento...\n"
     ]
    }
   ],
   "source": [
    "from time import sleep\n",
    "\n",
    "cuentaAtras = [4,3,2,1,0]\n",
    "\n",
    "for number in cuentaAtras:\n",
    "    print(number)\n",
    "    sleep(1)\n",
    "print(\"lanzamiento...\")"
   ]
  }
 ],
 "metadata": {
  "interpreter": {
   "hash": "cf904a10e4619daab283541d787de3408e9d1b7f70595e66a1f1bf57517276f9"
  },
  "kernelspec": {
   "display_name": "Python 3.10.2 64-bit (windows store)",
   "language": "python",
   "name": "python3"
  },
  "language_info": {
   "codemirror_mode": {
    "name": "ipython",
    "version": 3
   },
   "file_extension": ".py",
   "mimetype": "text/x-python",
   "name": "python",
   "nbconvert_exporter": "python",
   "pygments_lexer": "ipython3",
   "version": "3.10.2"
  },
  "orig_nbformat": 4
 },
 "nbformat": 4,
 "nbformat_minor": 2
}
