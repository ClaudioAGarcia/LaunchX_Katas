{
 "cells": [
  {
   "cell_type": "markdown",
   "metadata": {},
   "source": [
    "# Ejercicio 1"
   ]
  },
  {
   "cell_type": "code",
   "execution_count": 7,
   "metadata": {},
   "outputs": [
    {
     "name": "stdout",
     "output_type": "stream",
     "text": [
      "['marte', 'tierra']\n"
     ]
    }
   ],
   "source": [
    "from time import sleep\n",
    "name_planet = \"\"\n",
    "\n",
    "list_planet = []\n",
    "\n",
    "while name_planet.lower()   !=  'listo':\n",
    "\n",
    "    if name_planet:\n",
    "        list_planet.append(name_planet)\n",
    "\n",
    "    name_planet =   input(\"Introdusca un planeta, si ya termino de agregar los planetas escriba 'listo'\")\n",
    "\n",
    "print(list_planet)"
   ]
  },
  {
   "cell_type": "markdown",
   "metadata": {},
   "source": [
    "# Ejercicio 2\n"
   ]
  },
  {
   "cell_type": "code",
   "execution_count": 8,
   "metadata": {},
   "outputs": [
    {
     "name": "stdout",
     "output_type": "stream",
     "text": [
      "marte\n",
      "tierra\n",
      "Estos son tus planetas\n"
     ]
    }
   ],
   "source": [
    "for planets in list_planet:\n",
    "    print(planets)\n",
    "    sleep(1)\n",
    "print(\"Estos son tus planetas\")"
   ]
  }
 ],
 "metadata": {
  "interpreter": {
   "hash": "cf904a10e4619daab283541d787de3408e9d1b7f70595e66a1f1bf57517276f9"
  },
  "kernelspec": {
   "display_name": "Python 3.10.2 64-bit (windows store)",
   "language": "python",
   "name": "python3"
  },
  "language_info": {
   "codemirror_mode": {
    "name": "ipython",
    "version": 3
   },
   "file_extension": ".py",
   "mimetype": "text/x-python",
   "name": "python",
   "nbconvert_exporter": "python",
   "pygments_lexer": "ipython3",
   "version": "3.10.2"
  },
  "orig_nbformat": 4
 },
 "nbformat": 4,
 "nbformat_minor": 2
}
