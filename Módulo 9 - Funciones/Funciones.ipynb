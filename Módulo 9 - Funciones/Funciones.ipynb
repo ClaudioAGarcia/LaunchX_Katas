{
 "cells": [
  {
   "cell_type": "markdown",
   "metadata": {},
   "source": [
    "Funcion sin argumentos"
   ]
  },
  {
   "cell_type": "code",
   "execution_count": 6,
   "metadata": {},
   "outputs": [
    {
     "name": "stdout",
     "output_type": "stream",
     "text": [
      "lanzamiento iniciado\n",
      "lanzamiento iniciado\n"
     ]
    },
    {
     "data": {
      "text/plain": [
       "True"
      ]
     },
     "execution_count": 6,
     "metadata": {},
     "output_type": "execute_result"
    }
   ],
   "source": [
    "# las funciones nos ayudaran a repetir partes del codigo de una manera mucho mas sencilla\n",
    "# para definir una funcion se utiliza 'def \"nombre de nuestra funcion\"(\"donde iran nuestros argumentos de ser necesarios\"):\n",
    "# accion a realizar \n",
    "\n",
    "def rocketLaunch():\n",
    "    print(\"lanzamiento iniciado\")\n",
    "\n",
    "#para llamar una funcion \"nombre de la funcion\"()\n",
    "rocketLaunch()\n",
    "\n",
    "output = rocketLaunch()\n",
    "\n",
    "output is None\n"
   ]
  },
  {
   "cell_type": "code",
   "execution_count": 7,
   "metadata": {},
   "outputs": [
    {
     "data": {
      "text/plain": [
       "'lanzamiento iniciado'"
      ]
     },
     "execution_count": 7,
     "metadata": {},
     "output_type": "execute_result"
    }
   ],
   "source": [
    "# para que una funcion devuelva un valor se necesita darle la funcion return\n",
    "# de no ser haci la funcion no nos devolvera nada\n",
    "def rocketLaunch():\n",
    "    return \"lanzamiento iniciado\"\n",
    "\n",
    "output = rocketLaunch()\n",
    "\n",
    "output"
   ]
  },
  {
   "cell_type": "markdown",
   "metadata": {},
   "source": [
    "Funciones con argumentos"
   ]
  },
  {
   "cell_type": "code",
   "execution_count": 12,
   "metadata": {},
   "outputs": [
    {
     "data": {
      "text/plain": [
       "'238 000 km'"
      ]
     },
     "execution_count": 12,
     "metadata": {},
     "output_type": "execute_result"
    }
   ],
   "source": [
    "# le podemos dar argumentos a una funcion la cual se puede utilizar como un variable para despues\n",
    "\n",
    "def distanciaTierra(destino):\n",
    "    if destino == \"Moon\":\n",
    "        return \"238 000 km\"\n",
    "    else:\n",
    "        return \"destino no encontrado\"\n",
    "\n",
    "distanciaTierra('Moon')"
   ]
  },
  {
   "cell_type": "markdown",
   "metadata": {},
   "source": [
    "Funciones con varios argumentos"
   ]
  },
  {
   "cell_type": "code",
   "execution_count": 14,
   "metadata": {},
   "outputs": [
    {
     "data": {
      "text/plain": [
       "20"
      ]
     },
     "execution_count": 14,
     "metadata": {},
     "output_type": "execute_result"
    }
   ],
   "source": [
    "def multiplicacion(prim1,prim2):\n",
    "    return prim1 * prim2\n",
    "\n",
    "multiplicacion(10,2)"
   ]
  }
 ],
 "metadata": {
  "interpreter": {
   "hash": "cf904a10e4619daab283541d787de3408e9d1b7f70595e66a1f1bf57517276f9"
  },
  "kernelspec": {
   "display_name": "Python 3.10.2 64-bit (windows store)",
   "language": "python",
   "name": "python3"
  },
  "language_info": {
   "codemirror_mode": {
    "name": "ipython",
    "version": 3
   },
   "file_extension": ".py",
   "mimetype": "text/x-python",
   "name": "python",
   "nbconvert_exporter": "python",
   "pygments_lexer": "ipython3",
   "version": "3.10.2"
  },
  "orig_nbformat": 4
 },
 "nbformat": 4,
 "nbformat_minor": 2
}
